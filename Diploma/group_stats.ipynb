{
 "cells": [
  {
   "cell_type": "code",
   "execution_count": 13,
   "metadata": {
    "collapsed": false
   },
   "outputs": [
    {
     "name": "stdout",
     "output_type": "stream",
     "text": [
      "[{'bdate': '23.5',\n",
      "  'first_name': 'Пётр',\n",
      "  'hidden': 1,\n",
      "  'last_name': 'Мигалатииев',\n",
      "  'sex': 2,\n",
      "  'uid': 232811},\n",
      " {'first_name': 'Георгий', 'last_name': 'Манин', 'sex': 2, 'uid': 235835},\n",
      " {'bdate': '28.4',\n",
      "  'first_name': 'Катерина',\n",
      "  'hidden': 1,\n",
      "  'last_name': 'Дроздовская',\n",
      "  'sex': 1,\n",
      "  'uid': 935942},\n",
      " {'bdate': '1.2',\n",
      "  'first_name': 'Саша',\n",
      "  'hidden': 1,\n",
      "  'last_name': 'Абраменкова',\n",
      "  'sex': 1,\n",
      "  'uid': 1046153},\n",
      " {'bdate': '19.2.1991',\n",
      "  'first_name': 'Александр',\n",
      "  'hidden': 1,\n",
      "  'last_name': 'Хвостов',\n",
      "  'sex': 2,\n",
      "  'uid': 1627135},\n",
      " {'bdate': '15.5.1990',\n",
      "  'first_name': 'Алексей',\n",
      "  'hidden': 1,\n",
      "  'last_name': 'Луганский',\n",
      "  'sex': 2,\n",
      "  'uid': 1718603},\n",
      " {'bdate': '11.8.1990',\n",
      "  'first_name': 'Вячеслав',\n",
      "  'hidden': 1,\n",
      "  'last_name': 'Новожилов',\n",
      "  'sex': 2,\n",
      "  'uid': 1946565},\n",
      " {'first_name': 'Полина',\n",
      "  'hidden': 1,\n",
      "  'last_name': 'Палавошева',\n",
      "  'sex': 1,\n",
      "  'uid': 2715708},\n",
      " {'bdate': '22.5',\n",
      "  'first_name': 'Ирина',\n",
      "  'last_name': 'Афанасьева',\n",
      "  'sex': 1,\n",
      "  'uid': 2841037},\n",
      " {'bdate': '11.9',\n",
      "  'first_name': 'Ирэнка',\n",
      "  'hidden': 1,\n",
      "  'last_name': 'Луганская',\n",
      "  'sex': 1,\n",
      "  'uid': 3027877},\n",
      " {'bdate': '16.1',\n",
      "  'first_name': 'Елена',\n",
      "  'last_name': 'Патшина',\n",
      "  'sex': 1,\n",
      "  'uid': 3566641},\n",
      " {'bdate': '14.3.1989',\n",
      "  'first_name': 'Женечка',\n",
      "  'last_name': 'Забельникова',\n",
      "  'sex': 1,\n",
      "  'uid': 3711182},\n",
      " {'bdate': '3.4',\n",
      "  'first_name': 'Zamira',\n",
      "  'hidden': 1,\n",
      "  'last_name': 'Yagofferova',\n",
      "  'sex': 1,\n",
      "  'uid': 4774486},\n",
      " {'bdate': '21.1.1991',\n",
      "  'first_name': 'Кирилл',\n",
      "  'last_name': 'Власов',\n",
      "  'sex': 2,\n",
      "  'uid': 13287744},\n",
      " {'bdate': '18.10',\n",
      "  'first_name': 'Евгения',\n",
      "  'hidden': 1,\n",
      "  'last_name': 'Захарова',\n",
      "  'sex': 1,\n",
      "  'uid': 14960225}]\n"
     ]
    }
   ],
   "source": [
    "import config\n",
    "import requests\n",
    "from time import sleep\n",
    "import config\n",
    "import operator\n",
    "import json\n",
    "from pprint import pprint\n",
    "\n",
    "\n",
    "group_id=xxx\n",
    "url_members = 'https://api.vk.com/method/groups.getMembers'\n",
    "params=dict(group_id=group_id,token=config.access_token2,fields='sex,bdate')\n",
    "\n",
    "response_groups = requests.get(url_members, params).json()['response']['users']\n",
    "pprint(response_groups)"
   ]
  },
  {
   "cell_type": "code",
   "execution_count": 33,
   "metadata": {
    "collapsed": false
   },
   "outputs": [],
   "source": [
    "population_age=[]\n",
    "population_sex=[]\n",
    "for each in response_groups:\n",
    "    try:\n",
    "        population_sex.append(each['sex'])\n",
    "        if len(each['bdate'])>8:\n",
    "            population_age.append(each['bdate'])\n",
    "#         print(each['sex'])\n",
    "#         print(each['bdate'])\n",
    "    except:\n",
    "        pass"
   ]
  },
  {
   "cell_type": "code",
   "execution_count": 34,
   "metadata": {
    "collapsed": false
   },
   "outputs": [
    {
     "name": "stdout",
     "output_type": "stream",
     "text": [
      "[2, 2, 1, 1, 2, 2, 2, 1, 1, 1, 1, 1, 1, 2, 1]\n",
      "['19.2.1991', '15.5.1990', '11.8.1990', '14.3.1989', '21.1.1991']\n"
     ]
    }
   ],
   "source": [
    "print(population_sex, population_age, sep='\\n')"
   ]
  },
  {
   "cell_type": "code",
   "execution_count": 35,
   "metadata": {
    "collapsed": false
   },
   "outputs": [
    {
     "data": {
      "text/plain": [
       "str"
      ]
     },
     "execution_count": 35,
     "metadata": {},
     "output_type": "execute_result"
    }
   ],
   "source": [
    ""
   ]
  },
  {
   "cell_type": "code",
   "execution_count": null,
   "metadata": {
    "collapsed": true
   },
   "outputs": [],
   "source": [
    ""
   ]
  }
 ],
 "metadata": {
  "kernelspec": {
   "display_name": "Python 3",
   "language": "python",
   "name": "python3"
  },
  "language_info": {
   "codemirror_mode": {
    "name": "ipython",
    "version": 3.0
   },
   "file_extension": ".py",
   "mimetype": "text/x-python",
   "name": "python",
   "nbconvert_exporter": "python",
   "pygments_lexer": "ipython3",
   "version": "3.6.0"
  }
 },
 "nbformat": 4,
 "nbformat_minor": 0
}